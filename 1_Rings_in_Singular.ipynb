{
 "cells": [
  {
   "cell_type": "markdown",
   "id": "67519d02-1d36-4c74-ae56-afa10596ac61",
   "metadata": {},
   "source": [
    "# **Capítulo 1: Rings, Ideals and Standard Bases**"
   ]
  },
  {
   "cell_type": "markdown",
   "id": "be9ce823-3f1e-4b95-bdc1-87954f829a48",
   "metadata": {},
   "source": [
    "## *Ejercicio 1.3.11*\n",
    "\n",
    "Escriba un procedimiento en $\\text{Singular}$, dependiendo de dos enteros $p,d$, con $p$ primo, el cual retorne todos los polinomios en $\\mathbb{F}_p[x]$ de grado $d$ tal que la correspondiente función polinomial sea nula. Use el procedimiento para mostrar todos los $f \\in (\\mathbb{Z}/5\\mathbb{Z})[x]$ de grado $\\leq$ 6 tal que $\\tilde{f} = 0$. "
   ]
  },
  {
   "cell_type": "markdown",
   "id": "1995dd5d-9e2f-498f-9130-71c278460b44",
   "metadata": {
    "jp-MarkdownHeadingCollapsed": true
   },
   "source": [
    "**Solución**"
   ]
  },
  {
   "cell_type": "markdown",
   "id": "576b1f92-f4b0-4561-b8c1-4e3dec18edde",
   "metadata": {},
   "source": [
    "Primero notemos que para que un polinomio $f \\in \\mathbb{F}_p[x]$ de grado $d$ sea tal que su función evaluar sea $0$ en todos los puntos $x\\in(\\mathbb{F})^d$ necesitamos que $f$ cumpla\n",
    "$$\n",
    "    f(x) = x(x-\\bar{1})(x-\\bar{2})\\cdots(x-(\\overline{p-1}))\\cdot g(x)\n",
    "$$\n",
    "donde $g\\in\\mathbb{F}_p[x]$ es tal que $deg(g) = d-p$\n",
    "\n",
    "Entonces, nuestra función deberá calcular todos los polinomios $g\\in\\mathbb{F}_p$ de grado $deg(g)=d-p$. Para ello probemos lo siguiente:\n",
    "\n",
    "**Proposición:** Existe una biyección entre el conjunto $A=\\{0,1,\\dots,p^n-1\\} \\subset \\mathbb{N}$ y el conjunto $B=\\{q\\in\\mathbb{F}_p[x] : deg(q) \\leq n \\}$.\n",
    "\n",
    "***Demostración:***\n",
    "> Sabemos que dado $r\\in A$ podemos escribirlo como\n",
    "    $$\n",
    "        r = \\sum_{i=0}^{n-1} a_i p^i\n",
    "    $$\n",
    "  Luego definimos la función\n",
    "  \\begin{aligned}\n",
    "    \\varphi: A &\\to B \\\\\n",
    "    r = \\sum_{i=0}^{n-1} a_i p^i &\\mapsto \\sum_{i=0}^{n-1}a_ix^i\n",
    "  \\end{aligned}\n",
    "  Es fácil ver que esta función es inyectiva, y por otro lado $\\lvert B\\rvert = \\lvert (\\mathbb{F}_p)^n\\rvert = p^n = \\lvert A \\rvert $\n",
    "\n",
    "\n",
    "Luego, usando la proposición, proponemos un algoritmo que calcule todos los polinomios de grado $d-p$ en $\\mathbb{F}_p[x]$ de modo de encontrar todos los múltiplos del polinomio $x(x-\\bar{1})\\cdots(x-(\\overline{p-1}))$\n"
   ]
  },
  {
   "cell_type": "code",
   "execution_count": 1,
   "id": "2d95e593-56eb-47e5-94f7-e74a9d169bec",
   "metadata": {},
   "outputs": [
    {
     "data": {
      "text/plain": [
       "\u001b[?2004l\r",
       "\u001b[?2004h"
      ]
     },
     "execution_count": 1,
     "metadata": {},
     "output_type": "execute_result"
    }
   ],
   "source": [
    "proc Calc_vanishing_poly(int p, int d)\n",
    "{\n",
    "    if(d<p)\n",
    "    {\n",
    "        print(\"No existe tal polinomio :(\");\n",
    "        return();\n",
    "    }\n",
    "    \n",
    "    //definimos el polinomio h = x(x-1)...(x-(p-1))\n",
    "    ring R = p,x,dp;\n",
    "    poly h = x^p - x;\n",
    "    \n",
    "    if(d == p)\n",
    "    {\n",
    "        print(h);\n",
    "        return();\n",
    "    }\n",
    "\n",
    "    // Ahora calculamos todos los posibles g\n",
    "    list polinomios;\n",
    "    // Para ello calculemos la descomposición de cada n tal que 0 <= n < p^(d-p-1)\n",
    "    int i; int j; poly g;\n",
    "    for(i = 0; i < p^(d-p); i++)\n",
    "    {\n",
    "        for(j = d-p-1; j >= 0; j--)\n",
    "        {\n",
    "            g = g + ((i div (p^j))%p)*x^j;\n",
    "        }\n",
    "        // lo agregamos a la lista\n",
    "        polinomios = insert(polinomios, g);\n",
    "        //reseteamos g\n",
    "        g = 0;\n",
    "    }\n",
    "    // polinomios;\n",
    "\n",
    "\n",
    "    list lista_final;\n",
    "    for(i = 1; i <= size(polinomios); i++)\n",
    "    {\n",
    "        // para cada polinomio en la lista agregale todas las posibles ultimas coordenadas\n",
    "        for(j = 1; j < p; j++)\n",
    "        {\n",
    "            g = polinomios[i] + j*x^(d-p);\n",
    "            lista_final = insert(lista_final, g);\n",
    "        }\n",
    "    }\n",
    "    \n",
    "    // actualmente en la lista final tenemos todos los polinomios en Fp de grado exactamente igual a d-p\n",
    "    // entonces solo resta multiplicar nuestro polinomio f por cada polinomio en la lista\n",
    "    for(i=1; i <= size(lista_final); i++)\n",
    "    {\n",
    "        lista_final[i] = lista_final[i]*h;\n",
    "    }\n",
    "    lista_final;\n",
    "    return();\n",
    "}"
   ]
  },
  {
   "cell_type": "code",
   "execution_count": 2,
   "id": "ba1ca2cd-3290-47e4-8b5a-c9ed602b9532",
   "metadata": {},
   "outputs": [
    {
     "data": {
      "text/plain": [
       "\u001b[?2004l\r",
       "[1]:\r\n",
       "   -x6+x2\r\n",
       "[2]:\r\n",
       "   -2x6+2x2\r\n",
       "[3]:\r\n",
       "   2x6-2x2\r\n",
       "[4]:\r\n",
       "   x6-x2\r\n",
       "[5]:\r\n",
       "   -x6+x5+x2-x\r\n",
       "[6]:\r\n",
       "   -2x6+x5+2x2-x\r\n",
       "[7]:\r\n",
       "   2x6+x5-2x2-x\r\n",
       "[8]:\r\n",
       "   x6+x5-x2-x\r\n",
       "[9]:\r\n",
       "   -x6+2x5+x2-2x\r\n",
       "[10]:\r\n",
       "   -2x6+2x5+2x2-2x\r\n",
       "[11]:\r\n",
       "   2x6+2x5-2x2-2x\r\n",
       "[12]:\r\n",
       "   x6+2x5-x2-2x\r\n",
       "[13]:\r\n",
       "   -x6-2x5+x2+2x\r\n",
       "[14]:\r\n",
       "   -2x6-2x5+2x2+2x\r\n",
       "[15]:\r\n",
       "   2x6-2x5-2x2+2x\r\n",
       "[16]:\r\n",
       "   x6-2x5-x2+2x\r\n",
       "[17]:\r\n",
       "   -x6-x5+x2+x\r\n",
       "[18]:\r\n",
       "   -2x6-x5+2x2+x\r\n",
       "[19]:\r\n",
       "   2x6-x5-2x2+x\r\n",
       "[20]:\r\n",
       "   x6-x5-x2+x\r\n",
       "\u001b[?2004h"
      ]
     },
     "execution_count": 2,
     "metadata": {},
     "output_type": "execute_result"
    }
   ],
   "source": [
    "Calc_vanishing_poly(5,6);"
   ]
  },
  {
   "cell_type": "code",
   "execution_count": 26,
   "id": "235f40ac-ab24-43ba-bdda-12b465af9d44",
   "metadata": {},
   "outputs": [
    {
     "data": {
      "text/plain": [
       "\u001b[?2004l\r",
       "x6-x2\r\n",
       "x6+x5-x2-x\r\n",
       "x6+2x5-x2-2x\r\n",
       "x6-2x5-x2+2x\r\n",
       "x6-x5-x2+x\r\n",
       "2x6-2x2\r\n",
       "2x6+x5-2x2-x\r\n",
       "2x6+2x5-2x2-2x\r\n",
       "2x6-2x5-2x2+2x\r\n",
       "2x6-x5-2x2+x\r\n",
       "-2x6+2x2\r\n",
       "-2x6+x5+2x2-x\r\n",
       "-2x6+2x5+2x2-2x\r\n",
       "-2x6-2x5+2x2+2x\r\n",
       "-2x6-x5+2x2+x\r\n",
       "-x6+x2\r\n",
       "-x6+x5+x2-x\r\n",
       "-x6+2x5+x2-2x\r\n",
       "-x6-2x5+x2+2x\r\n",
       "-x6-x5+x2+x\r\n",
       "\u001b[?2004h"
      ]
     },
     "execution_count": 26,
     "metadata": {},
     "output_type": "execute_result"
    }
   ],
   "source": [
    "proc pichulon(int p,int d)\n",
    "{\n",
    "    ring R = p,x,dp;\n",
    "    if(d<=p){\n",
    "        if(d<p){print(\"erai malaya culia\");}\n",
    "        else{\n",
    "            int i;\n",
    "            poly f;\n",
    "            for(i=1;i<=p-1;i++){\n",
    "                f=(x^p-x)*i;\n",
    "                f;\n",
    "            }\n",
    "        }\n",
    "        }\n",
    "    else{\n",
    "        poly f;\n",
    "        int i;\n",
    "        int j;\n",
    "        int numero_plop;\n",
    "        int exp;\n",
    "        int indicador;\n",
    "        int coeficiente;\n",
    "        for(i=1;i<=p-1;i++){\n",
    "            j = 0;\n",
    "            while(j<p^(d-p)){\n",
    "                f = 0;\n",
    "                numero_plop = j;\n",
    "                if(j==0){indicador=1;}\n",
    "                else{indicador=0;}\n",
    "                exp=0;\n",
    "                while(numero_plop!=0 or indicador==1){\n",
    "                    coeficiente = numero_plop mod p;\n",
    "                    if(indicador==1){indicador=0;}\n",
    "                    else{numero_plop = numero_plop div p;}\n",
    "                    f= f + coeficiente * (x**exp);\n",
    "                    exp = exp+1;\n",
    "                }\n",
    "                f=(f+i*x^(d-p))*(x^(p) - x);\n",
    "                f;\n",
    "                j=j+1;\n",
    "            }\n",
    "        }\n",
    "    }\n",
    "    }\n",
    "\n",
    "pichulon(5,6);"
   ]
  },
  {
   "cell_type": "markdown",
   "id": "9fb8c536-0561-487b-ab30-a1cfb9e9cc06",
   "metadata": {},
   "source": [
    "## *Ejercicio 1.4.11*"
   ]
  },
  {
   "cell_type": "markdown",
   "id": "304dcac2-4a95-4134-bbe5-1af86ad08fcb",
   "metadata": {},
   "source": [
    "Sea $I = I_1I_2I_3 \\subset Q[x,y,z]$ el producto de los ideales $I_1 = \\langle z-x^2 \\rangle$, $I_2 = \\langle y,z \\rangle$ y $I_3 = \\langle x \\rangle$. Compute, como en el ejemplo 1.4.9, la dimensión de $V(I)$ en los puntos $(0,0,0)$, $(0,0,1)$, $(1,0,0)$ y $(1,1,1)$. Dibuje una figura real de $V(I)$ e interprete geométricamente sus resultados."
   ]
  },
  {
   "cell_type": "code",
   "execution_count": 44,
   "id": "fcbc5ede-b052-4f6d-86e7-bcf253ab8bd9",
   "metadata": {},
   "outputs": [
    {
     "data": {
      "text/plain": [
       "\u001b[?2004l\r",
       "[1]:\r\n",
       "   2\r\n",
       "[2]:\r\n",
       "   1\r\n",
       "[3]:\r\n",
       "   2\r\n",
       "[4]:\r\n",
       "   2\r\n",
       "\u001b[?2004h"
      ]
     },
     "execution_count": 44,
     "metadata": {},
     "output_type": "execute_result"
    }
   ],
   "source": [
    "list dimensiones;\n",
    "\n",
    "ring S = 0,(x,y,z),dp;\n",
    "ideal I1 = z-x2;\n",
    "ideal I2 = y,z;\n",
    "ideal I3 = x;\n",
    "ideal I = I1*I2*I3;\n",
    "\n",
    "ring R = 0,(x,y,z),ds;\n",
    "ideal J = fetch(S,I);\n",
    "ideal K = std(J);\n",
    "dimensiones = insert(dimensiones,dim(K));\n",
    "\n",
    "map trans = S, x,y,z+1;\n",
    "ideal J1 = trans(I);\n",
    "dimensiones = insert(dimensiones, dim(std(J1)));\n",
    "\n",
    "map trans = S, x+1,y,z;\n",
    "ideal J2 = trans(I);\n",
    "dimensiones = insert(dimensiones, dim(std(J2)));\n",
    "\n",
    "map trans = S, x+1,y+1,z+1;\n",
    "ideal J3 = trans(I);\n",
    "dimensiones = insert(dimensiones, dim(std(J3)));\n",
    "\n",
    "dimensiones;"
   ]
  }
 ],
 "metadata": {
  "kernelspec": {
   "display_name": "Singular",
   "language": "singular",
   "name": "singular"
  },
  "language_info": {
   "codemirror_mode": "singular",
   "file_extension": ".singular",
   "mimetype": "text/x-singular",
   "name": "Singular"
  }
 },
 "nbformat": 4,
 "nbformat_minor": 5
}
